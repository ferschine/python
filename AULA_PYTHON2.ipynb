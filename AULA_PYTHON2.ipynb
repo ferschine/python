{
  "nbformat": 4,
  "nbformat_minor": 0,
  "metadata": {
    "colab": {
      "provenance": [],
      "authorship_tag": "ABX9TyM417BEf7kXdycztoU803/A",
      "include_colab_link": true
    },
    "kernelspec": {
      "name": "python3",
      "display_name": "Python 3"
    },
    "language_info": {
      "name": "python"
    }
  },
  "cells": [
    {
      "cell_type": "markdown",
      "metadata": {
        "id": "view-in-github",
        "colab_type": "text"
      },
      "source": [
        "<a href=\"https://colab.research.google.com/github/ferschine/python/blob/main/AULA_PYTHON2.ipynb\" target=\"_parent\"><img src=\"https://colab.research.google.com/assets/colab-badge.svg\" alt=\"Open In Colab\"/></a>"
      ]
    },
    {
      "cell_type": "markdown",
      "source": [
        "Aula 1"
      ],
      "metadata": {
        "id": "NtFA58UwnWTL"
      }
    },
    {
      "cell_type": "markdown",
      "source": [
        "Alura"
      ],
      "metadata": {
        "id": "8GEdWACiuXbc"
      }
    },
    {
      "cell_type": "code",
      "source": [
        "print(\"I competição de programação dá Start\")"
      ],
      "metadata": {
        "colab": {
          "base_uri": "https://localhost:8080/"
        },
        "id": "WJs6dMvMnlk2",
        "outputId": "9f1883f2-783d-4195-b018-8909176984db"
      },
      "execution_count": null,
      "outputs": [
        {
          "output_type": "stream",
          "name": "stdout",
          "text": [
            "I competição de programação dá Start\n"
          ]
        }
      ]
    },
    {
      "cell_type": "code",
      "source": [
        "ano_atual = 'II'"
      ],
      "metadata": {
        "id": "wQhkKUNqonig"
      },
      "execution_count": null,
      "outputs": []
    },
    {
      "cell_type": "code",
      "source": [
        "print(ano_atual, \"competição de programação da Start\")"
      ],
      "metadata": {
        "colab": {
          "base_uri": "https://localhost:8080/"
        },
        "id": "0ZG-N1ylotOY",
        "outputId": "2fa6e140-729a-412a-d093-72c88a689c0e"
      },
      "execution_count": null,
      "outputs": [
        {
          "output_type": "stream",
          "name": "stdout",
          "text": [
            "II competição de programação da Start\n"
          ]
        }
      ]
    },
    {
      "cell_type": "code",
      "source": [
        "ano_atual = 'VI'"
      ],
      "metadata": {
        "id": "Bz3wPG5Ho3TB"
      },
      "execution_count": null,
      "outputs": []
    },
    {
      "cell_type": "code",
      "source": [
        "print(ano_atual, \"competição de programação da Start\")"
      ],
      "metadata": {
        "colab": {
          "base_uri": "https://localhost:8080/"
        },
        "id": "nb5S8ry9o6ui",
        "outputId": "7de3cf98-ffd0-4156-80f7-07f0550c338f"
      },
      "execution_count": null,
      "outputs": [
        {
          "output_type": "stream",
          "name": "stdout",
          "text": [
            "VI competição de programação da Start\n"
          ]
        }
      ]
    },
    {
      "cell_type": "markdown",
      "source": [
        "Aula 2"
      ],
      "metadata": {
        "id": "VrRSpptshQ03"
      }
    },
    {
      "cell_type": "markdown",
      "source": [
        "Livros"
      ],
      "metadata": {
        "id": "uBMJQ488uFga"
      }
    },
    {
      "cell_type": "code",
      "source": [
        "livro_ficcao = 8\n",
        "livro_n_ficcao = 10\n",
        "livro_infantil = 6\n",
        "pontos_rodrigo = livro_ficcao + livro_n_ficcao + livro_infantil\n",
        "print(f\"Os pontos totais do Rodrigo são {pontos_rodrigo}\")"
      ],
      "metadata": {
        "colab": {
          "base_uri": "https://localhost:8080/"
        },
        "id": "kJiBZIntjLlW",
        "outputId": "1e8ea64f-be93-4965-a2a2-366102432b0d"
      },
      "execution_count": null,
      "outputs": [
        {
          "output_type": "stream",
          "name": "stdout",
          "text": [
            "Os pontos totais do Rodrigo são 24\n"
          ]
        }
      ]
    },
    {
      "cell_type": "code",
      "source": [
        "pontos_ana = 2*livro_ficcao + 5*livro_infantil\n",
        "print(f\"Os pontos totais de Ana são {pontos_ana}\")"
      ],
      "metadata": {
        "colab": {
          "base_uri": "https://localhost:8080/"
        },
        "id": "WrOH-leTjhfP",
        "outputId": "031dd838-0687-40d3-87cd-314897d43cd9"
      },
      "execution_count": null,
      "outputs": [
        {
          "output_type": "stream",
          "name": "stdout",
          "text": [
            "Os pontos totais de Ana são 46\n"
          ]
        }
      ]
    },
    {
      "cell_type": "code",
      "source": [
        "pontos_ambos = pontos_rodrigo + pontos_ana\n",
        "print(f\"Os pontos totais de ambos são {pontos_ambos}\")"
      ],
      "metadata": {
        "colab": {
          "base_uri": "https://localhost:8080/"
        },
        "id": "FekINbDAkMkC",
        "outputId": "4972a2f6-f7d7-4f9e-f370-5a60bdd42a51"
      },
      "execution_count": null,
      "outputs": [
        {
          "output_type": "stream",
          "name": "stdout",
          "text": [
            "Os pontos totais de ambos são 70\n"
          ]
        }
      ]
    },
    {
      "cell_type": "code",
      "source": [
        "pontos_carlos = livro_ficcao + 3*livro_n_ficcao + 3*livro_infantil\n",
        "print(f\"Os pontos totais de Carlos são {pontos_carlos}\")"
      ],
      "metadata": {
        "colab": {
          "base_uri": "https://localhost:8080/"
        },
        "id": "Ustk_3dVnT0e",
        "outputId": "e669432d-1b55-47f3-acf8-c1e8ae0f51f4"
      },
      "execution_count": null,
      "outputs": [
        {
          "output_type": "stream",
          "name": "stdout",
          "text": [
            "Os pontos totais de Carlos são 56\n"
          ]
        }
      ]
    },
    {
      "cell_type": "code",
      "source": [
        "pontos_trio = pontos_carlos + pontos_ana + pontos_rodrigo\n",
        "print(f\"Os pontos totais do trio são {pontos_trio}\")"
      ],
      "metadata": {
        "colab": {
          "base_uri": "https://localhost:8080/"
        },
        "id": "bLVWZfQrnz1R",
        "outputId": "6ce38361-7f5b-4d78-94a1-8042f0391936"
      },
      "execution_count": null,
      "outputs": [
        {
          "output_type": "stream",
          "name": "stdout",
          "text": [
            "Os pontos totais do trio são 126\n"
          ]
        }
      ]
    },
    {
      "cell_type": "markdown",
      "source": [
        "Figurinhas"
      ],
      "metadata": {
        "id": "kY2v82uLsi38"
      }
    },
    {
      "cell_type": "code",
      "source": [
        "total_de_figurinhas = int(input(\"Digite o total de figurinhas: \"))\n",
        "numero_de_amigos = int(input(\"Digite o numero de amigos: \"))\n",
        "figurinhas_amigo = total_de_figurinhas // (numero_de_amigos + 2)\n",
        "figurinhas_joao = 2*figurinhas_amigo\n",
        "print(f\"João recebeu {figurinhas_joao} figurinhas\")"
      ],
      "metadata": {
        "colab": {
          "base_uri": "https://localhost:8080/"
        },
        "id": "6klOi-ANskJT",
        "outputId": "699e7faa-78d2-4ca2-e434-c29043fb161c"
      },
      "execution_count": 4,
      "outputs": [
        {
          "output_type": "stream",
          "name": "stdout",
          "text": [
            "Digite o total de figurinhas: 200\n",
            "Digite o numero de amigos: 3\n",
            "João recebeu 80 figurinhas\n"
          ]
        }
      ]
    },
    {
      "cell_type": "markdown",
      "source": [
        "Aula 3"
      ],
      "metadata": {
        "id": "FO5u57NZnULO"
      }
    },
    {
      "cell_type": "markdown",
      "source": [
        "Ônibus"
      ],
      "metadata": {
        "id": "4INOnfcJuNAb"
      }
    },
    {
      "cell_type": "code",
      "source": [
        "numero_de_alunos = int(input(\"Digite a quantidade de alunos: \"))\n",
        "numero_de_monitores = int(input(\"Digite a quantidade de monitores: \"))"
      ],
      "metadata": {
        "colab": {
          "base_uri": "https://localhost:8080/"
        },
        "id": "tJmNkOBxnW0C",
        "outputId": "3d4643ea-0895-4481-dc21-ac64763ccf89"
      },
      "execution_count": 20,
      "outputs": [
        {
          "name": "stdout",
          "output_type": "stream",
          "text": [
            "Digite a quantidade de alunos: 10\n",
            "Digite a quantidade de monitores: 10\n"
          ]
        }
      ]
    },
    {
      "cell_type": "code",
      "source": [
        "if numero_de_alunos + numero_de_monitores <= 50:\n",
        "  resposta_positiva = \"pode ir\"\n",
        "resposta_negativa = \"não pode ir\""
      ],
      "metadata": {
        "id": "HSjFFC_opXaC"
      },
      "execution_count": 21,
      "outputs": []
    },
    {
      "cell_type": "code",
      "source": [
        "if numero_de_alunos + numero_de_monitores <= 50:\n",
        "    print(resposta_positiva)\n",
        "else:\n",
        "    print(resposta_negativa)"
      ],
      "metadata": {
        "colab": {
          "base_uri": "https://localhost:8080/"
        },
        "id": "yX7DHy_qqoGp",
        "outputId": "e3633d80-6eed-440f-ca2a-b46ad32be253"
      },
      "execution_count": 22,
      "outputs": [
        {
          "output_type": "stream",
          "name": "stdout",
          "text": [
            "pode ir\n"
          ]
        }
      ]
    },
    {
      "cell_type": "markdown",
      "source": [
        "Bondinho"
      ],
      "metadata": {
        "id": "EhLtmxHbrsSc"
      }
    },
    {
      "cell_type": "code",
      "source": [
        "numero_de_alunos = int(input(\"Digite a quantidade de alunos:\"))\n",
        "numero_de_monitores = int(input(\"Digite a quantidade de monitores:\"))\n",
        "numero_de_professores = 8"
      ],
      "metadata": {
        "colab": {
          "base_uri": "https://localhost:8080/"
        },
        "id": "vk9wZqKlrtpa",
        "outputId": "280aa2ce-54ce-4bb9-cce6-831188214b29"
      },
      "execution_count": 23,
      "outputs": [
        {
          "name": "stdout",
          "output_type": "stream",
          "text": [
            "Digite a quantidade de alunos:20\n",
            "Digite a quantidade de monitores:5\n"
          ]
        }
      ]
    },
    {
      "cell_type": "code",
      "source": [
        "if numero_de_alunos + numero_de_monitores + numero_de_professores <= 30:\n",
        "  print(resposta_positiva)\n",
        "else:\n",
        "  print(resposta_negativa)"
      ],
      "metadata": {
        "colab": {
          "base_uri": "https://localhost:8080/"
        },
        "id": "X_nMQfibsTz0",
        "outputId": "e7f06e1d-2639-4c8d-8157-f51c361ac6cc"
      },
      "execution_count": 24,
      "outputs": [
        {
          "output_type": "stream",
          "name": "stdout",
          "text": [
            "não pode ir\n"
          ]
        }
      ]
    }
  ]
}